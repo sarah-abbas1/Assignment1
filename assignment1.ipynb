{
 "cells": [
  {
   "cell_type": "code",
   "execution_count": null,
   "id": "e174e5d6",
   "metadata": {},
   "outputs": [
    {
     "name": "stdout",
     "output_type": "stream",
     "text": [
      "19\n",
      "11\n",
      "60\n",
      "3.75\n",
      "3\n",
      "3\n"
     ]
    }
   ],
   "source": [
    "#1\n",
    "a = 15\n",
    "b = 4\n",
    "#Finding sum\n",
    "sum = a+b\n",
    "\n",
    "#Difference\n",
    "Diff = a - b\n",
    "\n",
    "#Product\n",
    "prod = a * b\n",
    "\n",
    "#Division\n",
    "div = a / b\n",
    "\n",
    "#FLoor Division\n",
    "fdiv = a // b\n",
    "\n",
    "#modulus\n",
    "mod = a % b\n",
    "\n",
    "print (sum)\n",
    "print (Diff)\n",
    "print (prod)\n",
    "print(div)\n",
    "print(fdiv)\n",
    "print(mod)"
   ]
  },
  {
   "cell_type": "code",
   "execution_count": null,
   "id": "41b03517",
   "metadata": {},
   "outputs": [
    {
     "name": "stdout",
     "output_type": "stream",
     "text": [
      "10.0\n",
      "5\n",
      "4.43\n"
     ]
    }
   ],
   "source": [
    "#2\n",
    "num1 = 10\n",
    "num2 = 5.6\n",
    "num3 = 4.43\n",
    "#num to float\n",
    "print(float(num1))\n",
    "#float to int\n",
    "print(int(num2))\n",
    "#float to str\n",
    "print(str(num3))"
   ]
  },
  {
   "cell_type": "code",
   "execution_count": 6,
   "id": "794cb385",
   "metadata": {},
   "outputs": [
    {
     "name": "stdout",
     "output_type": "stream",
     "text": [
      "apple\n",
      "orange\n",
      "coconut\n"
     ]
    }
   ],
   "source": [
    "#3\n",
    "fruits = [\"apple\", \"banana\", \"cherry\", \"coconut\", \"pineapple\", \"mango\", \"orange\"]\n",
    "#1st fruit\n",
    "print(fruits[0])\n",
    "#last fruit(-ve indexing)\n",
    "print(fruits[-1])\n",
    "#4th fruit\n",
    "print(fruits[3])"
   ]
  },
  {
   "cell_type": "code",
   "execution_count": null,
   "id": "98e1cdaf",
   "metadata": {},
   "outputs": [
    {
     "name": "stdout",
     "output_type": "stream",
     "text": [
      "[10, 20, 30]\n",
      "[40, 50]\n",
      "[20, 30, 40, 50]\n",
      "[10, 20, 30, 40]\n",
      "[50, 40, 30, 20, 10]\n",
      "[10, 30, 50]\n"
     ]
    }
   ],
   "source": [
    "#4\n",
    "numbers = [10, 20, 30, 40, 50]\n",
    "#1st 3\n",
    "print(numbers[:3])\n",
    "\n",
    "#last 2\n",
    "print(numbers[-2:])\n",
    "\n",
    "#all except the 1st\n",
    "print(numbers[1:])\n",
    "\n",
    "#all except the last\n",
    "print(numbers[:-1])\n",
    "\n",
    "#Reverse\n",
    "print(numbers[::-1])\n",
    "\n",
    "#every 2nd\n",
    "print(numbers[::2])"
   ]
  },
  {
   "cell_type": "code",
   "execution_count": null,
   "id": "1c7b4ead",
   "metadata": {},
   "outputs": [
    {
     "data": {
      "text/plain": [
       "[1, 2, 3, 10]"
      ]
     },
     "execution_count": 11,
     "metadata": {},
     "output_type": "execute_result"
    }
   ],
   "source": [
    "#5\n",
    "nums = [1, 2, 3]\n",
    "#add no 10 in the last\n",
    "nums.append(10)\n",
    "nums"
   ]
  },
  {
   "cell_type": "code",
   "execution_count": 13,
   "id": "8a86c879",
   "metadata": {},
   "outputs": [
    {
     "data": {
      "text/plain": [
       "[1, 99, 2, 3]"
      ]
     },
     "execution_count": 13,
     "metadata": {},
     "output_type": "execute_result"
    }
   ],
   "source": [
    "#6\n",
    "nums = [1, 2, 3]\n",
    "#insert 99 at index 1\n",
    "nums.insert(1, 99)\n",
    "nums"
   ]
  },
  {
   "cell_type": "code",
   "execution_count": 15,
   "id": "7fc83e68",
   "metadata": {},
   "outputs": [
    {
     "data": {
      "text/plain": [
       "[1, 2, 3, 4, 5]"
      ]
     },
     "execution_count": 15,
     "metadata": {},
     "output_type": "execute_result"
    }
   ],
   "source": [
    "#7\n",
    "nums = [1, 2, 3]\n",
    "#adding\n",
    "nums.extend([4, 5])\n",
    "nums"
   ]
  },
  {
   "cell_type": "code",
   "execution_count": 16,
   "id": "7110fe59",
   "metadata": {},
   "outputs": [
    {
     "data": {
      "text/plain": [
       "[1, 2, 3, 4]"
      ]
     },
     "execution_count": 16,
     "metadata": {},
     "output_type": "execute_result"
    }
   ],
   "source": [
    "#8\n",
    "nums = [4, 1, 3, 2]\n",
    "#Asscending order\n",
    "nums.sort()\n",
    "nums"
   ]
  },
  {
   "cell_type": "code",
   "execution_count": 17,
   "id": "81cc197f",
   "metadata": {},
   "outputs": [
    {
     "data": {
      "text/plain": [
       "['fries', 'coke', 'icecream']"
      ]
     },
     "execution_count": 17,
     "metadata": {},
     "output_type": "execute_result"
    }
   ],
   "source": [
    "#9\n",
    "order = [\"burger\", \"fries\", \"coke\"]\n",
    "#add icecream\n",
    "order.append(\"icecream\")\n",
    "#remove biryani\n",
    "order.remove(\"burger\")\n",
    "order"
   ]
  },
  {
   "cell_type": "code",
   "execution_count": 18,
   "id": "bb4879a1",
   "metadata": {},
   "outputs": [
    {
     "name": "stdout",
     "output_type": "stream",
     "text": [
      "['Ahmed', 'Sara', 'Ali']\n"
     ]
    },
    {
     "data": {
      "text/plain": [
       "['Ali', 'Sara', 'Ahmed']"
      ]
     },
     "execution_count": 18,
     "metadata": {},
     "output_type": "execute_result"
    }
   ],
   "source": [
    "#10\n",
    "passengers = [\"Ali\", \"Zara\", \"Ahmed\"]\n",
    "#Insert sara at 2\n",
    "passengers.insert(2, \"Sara\")\n",
    "#remove zara\n",
    "passengers.remove(\"Zara\")\n",
    "#reversed order\n",
    "print(passengers[::-1])\n",
    "\n",
    "passengers"
   ]
  }
 ],
 "metadata": {
  "kernelspec": {
   "display_name": "Python 3",
   "language": "python",
   "name": "python3"
  },
  "language_info": {
   "codemirror_mode": {
    "name": "ipython",
    "version": 3
   },
   "file_extension": ".py",
   "mimetype": "text/x-python",
   "name": "python",
   "nbconvert_exporter": "python",
   "pygments_lexer": "ipython3",
   "version": "3.11.9"
  }
 },
 "nbformat": 4,
 "nbformat_minor": 5
}
